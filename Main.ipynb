{
  "cells": [
    {
      "cell_type": "code",
      "source": [
        "import numpy as np\n",
        "import matplotlib.pyplot as plt\n",
        "import tensorflow as tf\n",
        "import tensorflow.keras as keras\n",
        "import keras.datasets as kds\n",
        "import keras.backend as K"
      ],
      "metadata": {
        "id": "gEEXok5ibeoh"
      },
      "execution_count": 1,
      "outputs": []
    },
    {
      "cell_type": "code",
      "source": [
        "(x_train, y_train), (x_test, y_test) = keras.datasets.mnist.load_data()\n",
        "x_train = x_train / 255.0\n",
        "x_test = x_test / 255.0\n",
        "x_train.shape, y_train.shape, x_test.shape, y_test.shape"
      ],
      "metadata": {
        "colab": {
          "base_uri": "https://localhost:8080/"
        },
        "id": "1TDjdlMfbfAv",
        "outputId": "555c2cd7-0dbb-44dc-d540-2433f0d053be"
      },
      "execution_count": 2,
      "outputs": [
        {
          "output_type": "stream",
          "name": "stdout",
          "text": [
            "Downloading data from https://storage.googleapis.com/tensorflow/tf-keras-datasets/mnist.npz\n",
            "11490434/11490434 [==============================] - 0s 0us/step\n"
          ]
        },
        {
          "output_type": "execute_result",
          "data": {
            "text/plain": [
              "((60000, 28, 28), (60000,), (10000, 28, 28), (10000,))"
            ]
          },
          "metadata": {},
          "execution_count": 2
        }
      ]
    },
    {
      "cell_type": "code",
      "source": [
        "def edit_data(x, y, method=\"edit\"):\n",
        "    is_batch = x.ndim == 3\n",
        "    if method == \"edit\":\n",
        "        if is_batch:\n",
        "            x[:, 0, :10] = 0.0\n",
        "            for i in range(x.shape[0]):\n",
        "                x[i, 0, y[i]] = 1.0\n",
        "        else:\n",
        "            x[0, :10] = 0.0\n",
        "            x[0, y] = 1.0"
      ],
      "metadata": {
        "id": "6HV0PWRKbglC"
      },
      "execution_count": 3,
      "outputs": []
    },
    {
      "cell_type": "code",
      "source": [
        "def random_label(y):\n",
        "    if type(y) != np.ndarray:\n",
        "        label = list(range(10))\n",
        "        del label[y]\n",
        "        return np.random.choice(label)\n",
        "    else:\n",
        "        label = np.copy(y)\n",
        "        for i in range(y.shape[0]):\n",
        "            label[i] = random_label(y[i])\n",
        "        return label"
      ],
      "metadata": {
        "id": "YBee8dp_bi3C"
      },
      "execution_count": 4,
      "outputs": []
    },
    {
      "cell_type": "code",
      "source": [
        "pos = np.copy(x_train)\n",
        "neg = np.copy(x_train)\n",
        "edit_data(pos, y_train)\n",
        "edit_data(neg, random_label(y_train))\n",
        "_, ax = plt.subplots(1, 2)\n",
        "ax[0].imshow(pos[0], cmap=\"gray\")\n",
        "ax[1].imshow(neg[0], cmap=\"gray\")\n",
        "plt.show()"
      ],
      "metadata": {
        "colab": {
          "base_uri": "https://localhost:8080/",
          "height": 201
        },
        "id": "yO4Oz_VBbl2D",
        "outputId": "023acfb0-ca09-40cb-c15b-b5a81ff5514d"
      },
      "execution_count": 6,
      "outputs": [
        {
          "output_type": "display_data",
          "data": {
            "text/plain": [
              "<Figure size 432x288 with 2 Axes>"
            ],
            "image/png": "[encoded data removed]"
          },
          "metadata": {
            "needs_background": "light"
          }
        }
      ]
    },
    {
      "cell_type": "code",
      "source": [
        "from numpy.ma.core import append\n",
        "def myLoss_with_threshold(threshold):\n",
        "    def myLoss(y_true, y_pred):\n",
        "        g = K.pow(y_pred, 2)\n",
        "        g = K.mean(g, axis=1)\n",
        "        g = g - threshold\n",
        "        g = g * y_true\n",
        "        loss = K.log(1 + K.exp(g))\n",
        "        loss = K.mean(loss)\n",
        "        return loss\n",
        "    return myLoss"
      ],
      "metadata": {
        "id": "w0_1IZakbnaG"
      },
      "execution_count": 7,
      "outputs": []
    },
    {
      "cell_type": "code",
      "source": [
        "pos = pos.reshape(pos.shape[0], -1)\n",
        "neg = neg.reshape(neg.shape[0], -1)\n",
        "pos.shape, neg.shape"
      ],
      "metadata": {
        "colab": {
          "base_uri": "https://localhost:8080/"
        },
        "id": "v-C_HR60b3h2",
        "outputId": "308027a1-1460-45cc-802b-644cd6214209"
      },
      "execution_count": 8,
      "outputs": [
        {
          "output_type": "execute_result",
          "data": {
            "text/plain": [
              "((60000, 784), (60000, 784))"
            ]
          },
          "metadata": {},
          "execution_count": 8
        }
      ]
    },
    {
      "cell_type": "code",
      "source": [
        "def normalize_(x_):\n",
        "    return x_ / (tf.norm(x_, ord=2, axis=1, keepdims=True) + 1e-4)\n",
        "layer1 = keras.Sequential([\n",
        "    keras.layers.Dense(500, activation=\"relu\", input_shape=[784])\n",
        "])\n",
        "layer2 = keras.Sequential([\n",
        "    keras.layers.Dense(500, activation=\"relu\", input_shape=[500])\n",
        "])"
      ],
      "metadata": {
        "id": "LZQwPWp2cQ7e"
      },
      "execution_count": 9,
      "outputs": []
    },
    {
      "cell_type": "code",
      "source": [
        "layer1.compile(loss=myLoss_with_threshold(2), optimizer=keras.optimizers.Adam())\n",
        "layer2.compile(loss=myLoss_with_threshold(2), optimizer=keras.optimizers.Adam())"
      ],
      "metadata": {
        "id": "Gc3j9JMLcTOI"
      },
      "execution_count": 10,
      "outputs": []
    },
    {
      "cell_type": "code",
      "source": [
        "from tqdm.auto import tqdm"
      ],
      "metadata": {
        "id": "Hl2LB-g4cVzg"
      },
      "execution_count": 11,
      "outputs": []
    },
    {
      "cell_type": "code",
      "source": [
        "batch_size = 500\n",
        "y_pos = np.ones((batch_size)) * -1\n",
        "y_neg = np.ones((batch_size))\n",
        "for ep in tqdm(range(500)):\n",
        "  for b in range(pos.shape[0] // batch_size):\n",
        "    x = pos[b * batch_size: (b + 1) * batch_size]\n",
        "    layer1.train_on_batch(x, y_pos)\n",
        "    x = neg[b * batch_size: (b + 1) * batch_size]\n",
        "    layer1.train_on_batch(x, y_neg)"
      ],
      "metadata": {
        "colab": {
          "base_uri": "https://localhost:8080/",
          "height": 49,
          "referenced_widgets": [
            "7061b02cb9fe496d81b536ab0deca94b",
            "b8b37a658d144765bc24f1c1b52f402e",
            "01e30b6f3279456cbb6428c7dcf415a5",
            "553c81fd62aa4d4ab095536f669792e6",
            "3ac29ea1e3744f00801b3535cac91ccf",
            "8371a0c2562d400eab58919f8b2a7925",
            "d1ee01d231af4c14b93844d57f2d1b3a",
            "072cfb60efde40fdace3e7c0ffa24a89",
            "fdc5114e3cf8413290e1f9c5ceac6d4d",
            "6d939eb9c6db44d5bc5d50e8f07dfb1c",
            "58976c78f10548049d17564d555c44ec"
          ]
        },
        "id": "KCV0wfo_cYLk",
        "outputId": "aadb1ecc-e680-4d4b-d7cc-b22b96b2766b"
      },
      "execution_count": 12,
      "outputs": [
        {
          "output_type": "display_data",
          "data": {
            "text/plain": [
              "  0%|          | 0/500 [00:00<?, ?it/s]"
            ],
            "application/vnd.jupyter.widget-view+json": {
              "version_major": 2,
              "version_minor": 0,
              "model_id": "7061b02cb9fe496d81b536ab0deca94b"
            }
          },
          "metadata": {}
        }
      ]
    },
    {
      "cell_type": "code",
      "source": [
        "pos1 = layer1.predict(pos)\n",
        "neg1 = layer1.predict(neg)\n",
        "pos1 = normalize_(pos1)\n",
        "neg1 = normalize_(neg1)\n",
        "pos1.shape, neg1.shape"
      ],
      "metadata": {
        "colab": {
          "base_uri": "https://localhost:8080/"
        },
        "id": "UyuspW09chUN",
        "outputId": "c32e5657-a793-46f9-e61a-15d0937e1b9b"
      },
      "execution_count": 13,
      "outputs": [
        {
          "output_type": "stream",
          "name": "stdout",
          "text": [
            "1875/1875 [==============================] - 3s 1ms/step\n",
            "1875/1875 [==============================] - 2s 1ms/step\n"
          ]
        },
        {
          "output_type": "execute_result",
          "data": {
            "text/plain": [
              "(TensorShape([60000, 500]), TensorShape([60000, 500]))"
            ]
          },
          "metadata": {},
          "execution_count": 13
        }
      ]
    },
    {
      "cell_type": "code",
      "source": [
        "batch_size = 500\n",
        "for ep in tqdm(range(500)):\n",
        "  for b in range(pos.shape[0] // batch_size):\n",
        "    x = pos1[b * batch_size: (b + 1) * batch_size]\n",
        "    layer2.train_on_batch(x, y_pos)\n",
        "    x = neg1[b * batch_size: (b + 1) * batch_size]\n",
        "    layer2.train_on_batch(x, y_neg)"
      ],
      "metadata": {
        "colab": {
          "base_uri": "https://localhost:8080/",
          "height": 49,
          "referenced_widgets": [
            "b939b347ae1c4c09bb3077e4a78e1447",
            "82ab8a1b968b435aa0cd9ece65d7a229",
            "b0063030ccb541e285be5fbfdc748144",
            "959f67f23b994af58ba4fd03d318ede4",
            "63176e0bd9ae4d90b9478c11cf7d2d2c",
            "f24e136868bf44de8210b023619ea9b9",
            "ecdf5590b2674ba0855f02fcad70c905",
            "4074c9d400c94ea2be7ea5983ec9ed2e",
            "d55df043c7784b3fa62e5a973821e793",
            "499977b6c66e4f79977258bd5cee00d6",
            "3d0e21875f1c45018d07ab8c092d231e"
          ]
        },
        "id": "r068RkLXcnE7",
        "outputId": "3e307981-8d92-4975-d39a-2d602f78c7fb"
      },
      "execution_count": 14,
      "outputs": [
        {
          "output_type": "display_data",
          "data": {
            "text/plain": [
              "  0%|          | 0/500 [00:00<?, ?it/s]"
            ],
            "application/vnd.jupyter.widget-view+json": {
              "version_major": 2,
              "version_minor": 0,
              "model_id": "b939b347ae1c4c09bb3077e4a78e1447"
            }
          },
          "metadata": {}
        }
      ]
    },
    {
      "cell_type": "code",
      "source": [
        "def test(z):\n",
        "  z = z.reshape(1, 784)\n",
        "  zs = [np.copy(z) for _ in range(10)]\n",
        "  for i in range(10):\n",
        "    edit_data(zs[i], i)\n",
        "  zs1 = [layer1.predict(zs[i], verbose=0) for i in range(10)]\n",
        "  zsnorm = [normalize_(zs1[i]) for i in range(10)]\n",
        "  zs2 = [layer2.predict(zsnorm[i], verbose=0) for i in range(10)]\n",
        "  ans = np.array([np.mean(np.power(zs1[i], 2)) + np.mean(np.power(zs2[i], 2)) for i in range(10)])\n",
        "  return np.argmax(ans)"
      ],
      "metadata": {
        "id": "vCGR3vpBcvj5"
      },
      "execution_count": 15,
      "outputs": []
    },
    {
      "cell_type": "code",
      "source": [
        "z = x_train[7]\n",
        "print(test(z))\n",
        "plt.imshow(z, cmap=\"gray\")"
      ],
      "metadata": {
        "colab": {
          "base_uri": "https://localhost:8080/",
          "height": 300
        },
        "id": "MpGCorcXc4cx",
        "outputId": "79ce3c6e-ae59-4266-b088-b7e21585ad5e"
      },
      "execution_count": 17,
      "outputs": [
        {
          "output_type": "stream",
          "name": "stdout",
          "text": [
            "3\n"
          ]
        },
        {
          "output_type": "execute_result",
          "data": {
            "text/plain": [
              "<matplotlib.image.AxesImage at 0x7fe50b04e370>"
            ]
          },
          "metadata": {},
          "execution_count": 17
        },
        {
          "output_type": "display_data",
          "data": {
            "text/plain": [
              "<Figure size 432x288 with 1 Axes>"
            ],
            "image/png": "[encoded data removed]"
          },
          "metadata": {
            "needs_background": "light"
          }
        }
      ]
    },
    {
      "cell_type": "code",
      "source": [
        "acc = 0\n",
        "test_acc = 0\n",
        "for i in range(100):\n",
        "  acc += test(x_train[i]) == y_train[i]\n",
        "for i in range(100, 200):\n",
        "  test_acc += test(x_test[i]) == y_test[i]\n",
        "acc / 100, test_acc / 100"
      ],
      "metadata": {
        "colab": {
          "base_uri": "https://localhost:8080/"
        },
        "id": "gUICZLOlcznN",
        "outputId": "c374e328-e2cd-4aa3-edc5-f0fdb89fdbef"
      },
      "execution_count": 18,
      "outputs": [
        {
          "output_type": "execute_result",
          "data": {
            "text/plain": [
              "(0.97, 0.99)"
            ]
          },
          "metadata": {},
          "execution_count": 18
        }
      ]
    },
    {
      "cell_type": "code",
      "source": [
        "layer1.save(\"/content/layer1.h5\")\n",
        "layer2.save(\"/content/layer2.h5\")"
      ],
      "metadata": {
        "id": "Ba2C8tW1kSx6"
      },
      "execution_count": 30,
      "outputs": []
    },
    {
      "cell_type": "code",
      "source": [
        "L1 = keras.models.load_model(\"/content/layer1.h5\", custom_objects={'myLoss' : myLoss_with_threshold(2)})\n",
        "L2 = keras.models.load_model(\"/content/layer2.h5\", custom_objects={'myLoss' : myLoss_with_threshold(2)})"
      ],
      "metadata": {
        "id": "nC2_SPU4lYtz"
      },
      "execution_count": 35,
      "outputs": []
    },
    {
      "cell_type": "code",
      "source": [
        "def test_loaded_model(z, layer1, layer2):\n",
        "  z = z.reshape(1, 784)\n",
        "  zs = [np.copy(z) for _ in range(10)]\n",
        "  for i in range(10):\n",
        "    edit_data(zs[i], i)\n",
        "  zs1 = [layer1.predict(zs[i], verbose=0) for i in range(10)]\n",
        "  zsnorm = [normalize_(zs1[i]) for i in range(10)]\n",
        "  zs2 = [layer2.predict(zsnorm[i], verbose=0) for i in range(10)]\n",
        "  ans = np.array([np.mean(np.power(zs1[i], 2)) + np.mean(np.power(zs2[i], 2)) for i in range(10)])\n",
        "  return np.argmax(ans)"
      ],
      "metadata": {
        "id": "kDSlSJfElkNI"
      },
      "execution_count": 36,
      "outputs": []
    },
    {
      "cell_type": "code",
      "source": [
        "z = x_train[77]\n",
        "print(test_loaded_model(z, L1, L2))\n",
        "plt.imshow(z, cmap=\"gray\")"
      ],
      "metadata": {
        "colab": {
          "base_uri": "https://localhost:8080/",
          "height": 300
        },
        "id": "SRIXP_dllt-i",
        "outputId": "f0c0c0d7-c79b-423f-fb19-79cc858fbc8e"
      },
      "execution_count": 38,
      "outputs": [
        {
          "output_type": "stream",
          "name": "stdout",
          "text": [
            "1\n"
          ]
        },
        {
          "output_type": "execute_result",
          "data": {
            "text/plain": [
              "<matplotlib.image.AxesImage at 0x7fe5087a87f0>"
            ]
          },
          "metadata": {},
          "execution_count": 38
        },
        {
          "output_type": "display_data",
          "data": {
            "text/plain": [
              "<Figure size 432x288 with 1 Axes>"
            ],
            "image/png": "[encoded data removed]"
          },
          "metadata": {
            "needs_background": "light"
          }
        }
      ]
    }
  ],
  "metadata": {
    "colab": {
      "name": "Welcome To Colaboratory",
      "provenance": []
    },
    "kernelspec": {
      "display_name": "Python 3",
      "name": "python3"
    },
    "accelerator": "GPU",
    "gpuClass": "standard",
    "widgets": {
      "application/vnd.jupyter.widget-state+json": {
        "7061b02cb9fe496d81b536ab0deca94b": {
          "model_module": "@jupyter-widgets/controls",
          "model_name": "HBoxModel",
          "model_module_version": "1.5.0",
          "state": {
            "_dom_classes": [],
            "_model_module": "@jupyter-widgets/controls",
            "_model_module_version": "1.5.0",
            "_model_name": "HBoxModel",
            "_view_count": null,
            "_view_module": "@jupyter-widgets/controls",
            "_view_module_version": "1.5.0",
            "_view_name": "HBoxView",
            "box_style": "",
            "children": [
              "IPY_MODEL_b8b37a658d144765bc24f1c1b52f402e",
              "IPY_MODEL_01e30b6f3279456cbb6428c7dcf415a5",
              "IPY_MODEL_553c81fd62aa4d4ab095536f669792e6"
            ],
            "layout": "IPY_MODEL_3ac29ea1e3744f00801b3535cac91ccf"
          }
        },
        "b8b37a658d144765bc24f1c1b52f402e": {
          "model_module": "@jupyter-widgets/controls",
          "model_name": "HTMLModel",
          "model_module_version": "1.5.0",
          "state": {
            "_dom_classes": [],
            "_model_module": "@jupyter-widgets/controls",
            "_model_module_version": "1.5.0",
            "_model_name": "HTMLModel",
            "_view_count": null,
            "_view_module": "@jupyter-widgets/controls",
            "_view_module_version": "1.5.0",
            "_view_name": "HTMLView",
            "description": "",
            "description_tooltip": null,
            "layout": "IPY_MODEL_8371a0c2562d400eab58919f8b2a7925",
            "placeholder": "​",
            "style": "IPY_MODEL_d1ee01d231af4c14b93844d57f2d1b3a",
            "value": "100%"
          }
        },
        "01e30b6f3279456cbb6428c7dcf415a5": {
          "model_module": "@jupyter-widgets/controls",
          "model_name": "FloatProgressModel",
          "model_module_version": "1.5.0",
          "state": {
            "_dom_classes": [],
            "_model_module": "@jupyter-widgets/controls",
            "_model_module_version": "1.5.0",
            "_model_name": "FloatProgressModel",
            "_view_count": null,
            "_view_module": "@jupyter-widgets/controls",
            "_view_module_version": "1.5.0",
            "_view_name": "ProgressView",
            "bar_style": "success",
            "description": "",
            "description_tooltip": null,
            "layout": "IPY_MODEL_072cfb60efde40fdace3e7c0ffa24a89",
            "max": 500,
            "min": 0,
            "orientation": "horizontal",
            "style": "IPY_MODEL_fdc5114e3cf8413290e1f9c5ceac6d4d",
            "value": 500
          }
        },
        "553c81fd62aa4d4ab095536f669792e6": {
          "model_module": "@jupyter-widgets/controls",
          "model_name": "HTMLModel",
          "model_module_version": "1.5.0",
          "state": {
            "_dom_classes": [],
            "_model_module": "@jupyter-widgets/controls",
            "_model_module_version": "1.5.0",
            "_model_name": "HTMLModel",
            "_view_count": null,
            "_view_module": "@jupyter-widgets/controls",
            "_view_module_version": "1.5.0",
            "_view_name": "HTMLView",
            "description": "",
            "description_tooltip": null,
            "layout": "IPY_MODEL_6d939eb9c6db44d5bc5d50e8f07dfb1c",
            "placeholder": "​",
            "style": "IPY_MODEL_58976c78f10548049d17564d555c44ec",
            "value": " 500/500 [15:24&lt;00:00,  1.75s/it]"
          }
        },
        "3ac29ea1e3744f00801b3535cac91ccf": {
          "model_module": "@jupyter-widgets/base",
          "model_name": "LayoutModel",
          "model_module_version": "1.2.0",
          "state": {
            "_model_module": "@jupyter-widgets/base",
            "_model_module_version": "1.2.0",
            "_model_name": "LayoutModel",
            "_view_count": null,
            "_view_module": "@jupyter-widgets/base",
            "_view_module_version": "1.2.0",
            "_view_name": "LayoutView",
            "align_content": null,
            "align_items": null,
            "align_self": null,
            "border": null,
            "bottom": null,
            "display": null,
            "flex": null,
            "flex_flow": null,
            "grid_area": null,
            "grid_auto_columns": null,
            "grid_auto_flow": null,
            "grid_auto_rows": null,
            "grid_column": null,
            "grid_gap": null,
            "grid_row": null,
            "grid_template_areas": null,
            "grid_template_columns": null,
            "grid_template_rows": null,
            "height": null,
            "justify_content": null,
            "justify_items": null,
            "left": null,
            "margin": null,
            "max_height": null,
            "max_width": null,
            "min_height": null,
            "min_width": null,
            "object_fit": null,
            "object_position": null,
            "order": null,
            "overflow": null,
            "overflow_x": null,
            "overflow_y": null,
            "padding": null,
            "right": null,
            "top": null,
            "visibility": null,
            "width": null
          }
        },
        "8371a0c2562d400eab58919f8b2a7925": {
          "model_module": "@jupyter-widgets/base",
          "model_name": "LayoutModel",
          "model_module_version": "1.2.0",
          "state": {
            "_model_module": "@jupyter-widgets/base",
            "_model_module_version": "1.2.0",
            "_model_name": "LayoutModel",
            "_view_count": null,
            "_view_module": "@jupyter-widgets/base",
            "_view_module_version": "1.2.0",
            "_view_name": "LayoutView",
            "align_content": null,
            "align_items": null,
            "align_self": null,
            "border": null,
            "bottom": null,
            "display": null,
            "flex": null,
            "flex_flow": null,
            "grid_area": null,
            "grid_auto_columns": null,
            "grid_auto_flow": null,
            "grid_auto_rows": null,
            "grid_column": null,
            "grid_gap": null,
            "grid_row": null,
            "grid_template_areas": null,
            "grid_template_columns": null,
            "grid_template_rows": null,
            "height": null,
            "justify_content": null,
            "justify_items": null,
            "left": null,
            "margin": null,
            "max_height": null,
            "max_width": null,
            "min_height": null,
            "min_width": null,
            "object_fit": null,
            "object_position": null,
            "order": null,
            "overflow": null,
            "overflow_x": null,
            "overflow_y": null,
            "padding": null,
            "right": null,
            "top": null,
            "visibility": null,
            "width": null
          }
        },
        "d1ee01d231af4c14b93844d57f2d1b3a": {
          "model_module": "@jupyter-widgets/controls",
          "model_name": "DescriptionStyleModel",
          "model_module_version": "1.5.0",
          "state": {
            "_model_module": "@jupyter-widgets/controls",
            "_model_module_version": "1.5.0",
            "_model_name": "DescriptionStyleModel",
            "_view_count": null,
            "_view_module": "@jupyter-widgets/base",
            "_view_module_version": "1.2.0",
            "_view_name": "StyleView",
            "description_width": ""
          }
        },
        "072cfb60efde40fdace3e7c0ffa24a89": {
          "model_module": "@jupyter-widgets/base",
          "model_name": "LayoutModel",
          "model_module_version": "1.2.0",
          "state": {
            "_model_module": "@jupyter-widgets/base",
            "_model_module_version": "1.2.0",
            "_model_name": "LayoutModel",
            "_view_count": null,
            "_view_module": "@jupyter-widgets/base",
            "_view_module_version": "1.2.0",
            "_view_name": "LayoutView",
            "align_content": null,
            "align_items": null,
            "align_self": null,
            "border": null,
            "bottom": null,
            "display": null,
            "flex": null,
            "flex_flow": null,
            "grid_area": null,
            "grid_auto_columns": null,
            "grid_auto_flow": null,
            "grid_auto_rows": null,
            "grid_column": null,
            "grid_gap": null,
            "grid_row": null,
            "grid_template_areas": null,
            "grid_template_columns": null,
            "grid_template_rows": null,
            "height": null,
            "justify_content": null,
            "justify_items": null,
            "left": null,
            "margin": null,
            "max_height": null,
            "max_width": null,
            "min_height": null,
            "min_width": null,
            "object_fit": null,
            "object_position": null,
            "order": null,
            "overflow": null,
            "overflow_x": null,
            "overflow_y": null,
            "padding": null,
            "right": null,
            "top": null,
            "visibility": null,
            "width": null
          }
        },
        "fdc5114e3cf8413290e1f9c5ceac6d4d": {
          "model_module": "@jupyter-widgets/controls",
          "model_name": "ProgressStyleModel",
          "model_module_version": "1.5.0",
          "state": {
            "_model_module": "@jupyter-widgets/controls",
            "_model_module_version": "1.5.0",
            "_model_name": "ProgressStyleModel",
            "_view_count": null,
            "_view_module": "@jupyter-widgets/base",
            "_view_module_version": "1.2.0",
            "_view_name": "StyleView",
            "bar_color": null,
            "description_width": ""
          }
        },
        "6d939eb9c6db44d5bc5d50e8f07dfb1c": {
          "model_module": "@jupyter-widgets/base",
          "model_name": "LayoutModel",
          "model_module_version": "1.2.0",
          "state": {
            "_model_module": "@jupyter-widgets/base",
            "_model_module_version": "1.2.0",
            "_model_name": "LayoutModel",
            "_view_count": null,
            "_view_module": "@jupyter-widgets/base",
            "_view_module_version": "1.2.0",
            "_view_name": "LayoutView",
            "align_content": null,
            "align_items": null,
            "align_self": null,
            "border": null,
            "bottom": null,
            "display": null,
            "flex": null,
            "flex_flow": null,
            "grid_area": null,
            "grid_auto_columns": null,
            "grid_auto_flow": null,
            "grid_auto_rows": null,
            "grid_column": null,
            "grid_gap": null,
            "grid_row": null,
            "grid_template_areas": null,
            "grid_template_columns": null,
            "grid_template_rows": null,
            "height": null,
            "justify_content": null,
            "justify_items": null,
            "left": null,
            "margin": null,
            "max_height": null,
            "max_width": null,
            "min_height": null,
            "min_width": null,
            "object_fit": null,
            "object_position": null,
            "order": null,
            "overflow": null,
            "overflow_x": null,
            "overflow_y": null,
            "padding": null,
            "right": null,
            "top": null,
            "visibility": null,
            "width": null
          }
        },
        "58976c78f10548049d17564d555c44ec": {
          "model_module": "@jupyter-widgets/controls",
          "model_name": "DescriptionStyleModel",
          "model_module_version": "1.5.0",
          "state": {
            "_model_module": "@jupyter-widgets/controls",
            "_model_module_version": "1.5.0",
            "_model_name": "DescriptionStyleModel",
            "_view_count": null,
            "_view_module": "@jupyter-widgets/base",
            "_view_module_version": "1.2.0",
            "_view_name": "StyleView",
            "description_width": ""
          }
        },
        "b939b347ae1c4c09bb3077e4a78e1447": {
          "model_module": "@jupyter-widgets/controls",
          "model_name": "HBoxModel",
          "model_module_version": "1.5.0",
          "state": {
            "_dom_classes": [],
            "_model_module": "@jupyter-widgets/controls",
            "_model_module_version": "1.5.0",
            "_model_name": "HBoxModel",
            "_view_count": null,
            "_view_module": "@jupyter-widgets/controls",
            "_view_module_version": "1.5.0",
            "_view_name": "HBoxView",
            "box_style": "",
            "children": [
              "IPY_MODEL_82ab8a1b968b435aa0cd9ece65d7a229",
              "IPY_MODEL_b0063030ccb541e285be5fbfdc748144",
              "IPY_MODEL_959f67f23b994af58ba4fd03d318ede4"
            ],
            "layout": "IPY_MODEL_63176e0bd9ae4d90b9478c11cf7d2d2c"
          }
        },
        "82ab8a1b968b435aa0cd9ece65d7a229": {
          "model_module": "@jupyter-widgets/controls",
          "model_name": "HTMLModel",
          "model_module_version": "1.5.0",
          "state": {
            "_dom_classes": [],
            "_model_module": "@jupyter-widgets/controls",
            "_model_module_version": "1.5.0",
            "_model_name": "HTMLModel",
            "_view_count": null,
            "_view_module": "@jupyter-widgets/controls",
            "_view_module_version": "1.5.0",
            "_view_name": "HTMLView",
            "description": "",
            "description_tooltip": null,
            "layout": "IPY_MODEL_f24e136868bf44de8210b023619ea9b9",
            "placeholder": "​",
            "style": "IPY_MODEL_ecdf5590b2674ba0855f02fcad70c905",
            "value": "100%"
          }
        },
        "b0063030ccb541e285be5fbfdc748144": {
          "model_module": "@jupyter-widgets/controls",
          "model_name": "FloatProgressModel",
          "model_module_version": "1.5.0",
          "state": {
            "_dom_classes": [],
            "_model_module": "@jupyter-widgets/controls",
            "_model_module_version": "1.5.0",
            "_model_name": "FloatProgressModel",
            "_view_count": null,
            "_view_module": "@jupyter-widgets/controls",
            "_view_module_version": "1.5.0",
            "_view_name": "ProgressView",
            "bar_style": "success",
            "description": "",
            "description_tooltip": null,
            "layout": "IPY_MODEL_4074c9d400c94ea2be7ea5983ec9ed2e",
            "max": 500,
            "min": 0,
            "orientation": "horizontal",
            "style": "IPY_MODEL_d55df043c7784b3fa62e5a973821e793",
            "value": 500
          }
        },
        "959f67f23b994af58ba4fd03d318ede4": {
          "model_module": "@jupyter-widgets/controls",
          "model_name": "HTMLModel",
          "model_module_version": "1.5.0",
          "state": {
            "_dom_classes": [],
            "_model_module": "@jupyter-widgets/controls",
            "_model_module_version": "1.5.0",
            "_model_name": "HTMLModel",
            "_view_count": null,
            "_view_module": "@jupyter-widgets/controls",
            "_view_module_version": "1.5.0",
            "_view_name": "HTMLView",
            "description": "",
            "description_tooltip": null,
            "layout": "IPY_MODEL_499977b6c66e4f79977258bd5cee00d6",
            "placeholder": "​",
            "style": "IPY_MODEL_3d0e21875f1c45018d07ab8c092d231e",
            "value": " 500/500 [11:49&lt;00:00,  1.44s/it]"
          }
        },
        "63176e0bd9ae4d90b9478c11cf7d2d2c": {
          "model_module": "@jupyter-widgets/base",
          "model_name": "LayoutModel",
          "model_module_version": "1.2.0",
          "state": {
            "_model_module": "@jupyter-widgets/base",
            "_model_module_version": "1.2.0",
            "_model_name": "LayoutModel",
            "_view_count": null,
            "_view_module": "@jupyter-widgets/base",
            "_view_module_version": "1.2.0",
            "_view_name": "LayoutView",
            "align_content": null,
            "align_items": null,
            "align_self": null,
            "border": null,
            "bottom": null,
            "display": null,
            "flex": null,
            "flex_flow": null,
            "grid_area": null,
            "grid_auto_columns": null,
            "grid_auto_flow": null,
            "grid_auto_rows": null,
            "grid_column": null,
            "grid_gap": null,
            "grid_row": null,
            "grid_template_areas": null,
            "grid_template_columns": null,
            "grid_template_rows": null,
            "height": null,
            "justify_content": null,
            "justify_items": null,
            "left": null,
            "margin": null,
            "max_height": null,
            "max_width": null,
            "min_height": null,
            "min_width": null,
            "object_fit": null,
            "object_position": null,
            "order": null,
            "overflow": null,
            "overflow_x": null,
            "overflow_y": null,
            "padding": null,
            "right": null,
            "top": null,
            "visibility": null,
            "width": null
          }
        },
        "f24e136868bf44de8210b023619ea9b9": {
          "model_module": "@jupyter-widgets/base",
          "model_name": "LayoutModel",
          "model_module_version": "1.2.0",
          "state": {
            "_model_module": "@jupyter-widgets/base",
            "_model_module_version": "1.2.0",
            "_model_name": "LayoutModel",
            "_view_count": null,
            "_view_module": "@jupyter-widgets/base",
            "_view_module_version": "1.2.0",
            "_view_name": "LayoutView",
            "align_content": null,
            "align_items": null,
            "align_self": null,
            "border": null,
            "bottom": null,
            "display": null,
            "flex": null,
            "flex_flow": null,
            "grid_area": null,
            "grid_auto_columns": null,
            "grid_auto_flow": null,
            "grid_auto_rows": null,
            "grid_column": null,
            "grid_gap": null,
            "grid_row": null,
            "grid_template_areas": null,
            "grid_template_columns": null,
            "grid_template_rows": null,
            "height": null,
            "justify_content": null,
            "justify_items": null,
            "left": null,
            "margin": null,
            "max_height": null,
            "max_width": null,
            "min_height": null,
            "min_width": null,
            "object_fit": null,
            "object_position": null,
            "order": null,
            "overflow": null,
            "overflow_x": null,
            "overflow_y": null,
            "padding": null,
            "right": null,
            "top": null,
            "visibility": null,
            "width": null
          }
        },
        "ecdf5590b2674ba0855f02fcad70c905": {
          "model_module": "@jupyter-widgets/controls",
          "model_name": "DescriptionStyleModel",
          "model_module_version": "1.5.0",
          "state": {
            "_model_module": "@jupyter-widgets/controls",
            "_model_module_version": "1.5.0",
            "_model_name": "DescriptionStyleModel",
            "_view_count": null,
            "_view_module": "@jupyter-widgets/base",
            "_view_module_version": "1.2.0",
            "_view_name": "StyleView",
            "description_width": ""
          }
        },
        "4074c9d400c94ea2be7ea5983ec9ed2e": {
          "model_module": "@jupyter-widgets/base",
          "model_name": "LayoutModel",
          "model_module_version": "1.2.0",
          "state": {
            "_model_module": "@jupyter-widgets/base",
            "_model_module_version": "1.2.0",
            "_model_name": "LayoutModel",
            "_view_count": null,
            "_view_module": "@jupyter-widgets/base",
            "_view_module_version": "1.2.0",
            "_view_name": "LayoutView",
            "align_content": null,
            "align_items": null,
            "align_self": null,
            "border": null,
            "bottom": null,
            "display": null,
            "flex": null,
            "flex_flow": null,
            "grid_area": null,
            "grid_auto_columns": null,
            "grid_auto_flow": null,
            "grid_auto_rows": null,
            "grid_column": null,
            "grid_gap": null,
            "grid_row": null,
            "grid_template_areas": null,
            "grid_template_columns": null,
            "grid_template_rows": null,
            "height": null,
            "justify_content": null,
            "justify_items": null,
            "left": null,
            "margin": null,
            "max_height": null,
            "max_width": null,
            "min_height": null,
            "min_width": null,
            "object_fit": null,
            "object_position": null,
            "order": null,
            "overflow": null,
            "overflow_x": null,
            "overflow_y": null,
            "padding": null,
            "right": null,
            "top": null,
            "visibility": null,
            "width": null
          }
        },
        "d55df043c7784b3fa62e5a973821e793": {
          "model_module": "@jupyter-widgets/controls",
          "model_name": "ProgressStyleModel",
          "model_module_version": "1.5.0",
          "state": {
            "_model_module": "@jupyter-widgets/controls",
            "_model_module_version": "1.5.0",
            "_model_name": "ProgressStyleModel",
            "_view_count": null,
            "_view_module": "@jupyter-widgets/base",
            "_view_module_version": "1.2.0",
            "_view_name": "StyleView",
            "bar_color": null,
            "description_width": ""
          }
        },
        "499977b6c66e4f79977258bd5cee00d6": {
          "model_module": "@jupyter-widgets/base",
          "model_name": "LayoutModel",
          "model_module_version": "1.2.0",
          "state": {
            "_model_module": "@jupyter-widgets/base",
            "_model_module_version": "1.2.0",
            "_model_name": "LayoutModel",
            "_view_count": null,
            "_view_module": "@jupyter-widgets/base",
            "_view_module_version": "1.2.0",
            "_view_name": "LayoutView",
            "align_content": null,
            "align_items": null,
            "align_self": null,
            "border": null,
            "bottom": null,
            "display": null,
            "flex": null,
            "flex_flow": null,
            "grid_area": null,
            "grid_auto_columns": null,
            "grid_auto_flow": null,
            "grid_auto_rows": null,
            "grid_column": null,
            "grid_gap": null,
            "grid_row": null,
            "grid_template_areas": null,
            "grid_template_columns": null,
            "grid_template_rows": null,
            "height": null,
            "justify_content": null,
            "justify_items": null,
            "left": null,
            "margin": null,
            "max_height": null,
            "max_width": null,
            "min_height": null,
            "min_width": null,
            "object_fit": null,
            "object_position": null,
            "order": null,
            "overflow": null,
            "overflow_x": null,
            "overflow_y": null,
            "padding": null,
            "right": null,
            "top": null,
            "visibility": null,
            "width": null
          }
        },
        "3d0e21875f1c45018d07ab8c092d231e": {
          "model_module": "@jupyter-widgets/controls",
          "model_name": "DescriptionStyleModel",
          "model_module_version": "1.5.0",
          "state": {
            "_model_module": "@jupyter-widgets/controls",
            "_model_module_version": "1.5.0",
            "_model_name": "DescriptionStyleModel",
            "_view_count": null,
            "_view_module": "@jupyter-widgets/base",
            "_view_module_version": "1.2.0",
            "_view_name": "StyleView",
            "description_width": ""
          }
        }
      }
    }
  },
  "nbformat": 4,
  "nbformat_minor": 0
}